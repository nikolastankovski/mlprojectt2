{
 "cells": [
  {
   "cell_type": "code",
   "execution_count": 1,
   "metadata": {},
   "outputs": [],
   "source": [
    "import numpy as np\n",
    "import pandas as pd\n",
    "from unidecode import unidecode"
   ]
  },
  {
   "cell_type": "markdown",
   "metadata": {},
   "source": [
    "### Load Ingredients"
   ]
  },
  {
   "cell_type": "code",
   "execution_count": 2,
   "metadata": {},
   "outputs": [
    {
     "data": {
      "text/html": [
       "<div>\n",
       "<style scoped>\n",
       "    .dataframe tbody tr th:only-of-type {\n",
       "        vertical-align: middle;\n",
       "    }\n",
       "\n",
       "    .dataframe tbody tr th {\n",
       "        vertical-align: top;\n",
       "    }\n",
       "\n",
       "    .dataframe thead th {\n",
       "        text-align: right;\n",
       "    }\n",
       "</style>\n",
       "<table border=\"1\" class=\"dataframe\">\n",
       "  <thead>\n",
       "    <tr style=\"text-align: right;\">\n",
       "      <th></th>\n",
       "      <th>generic_name</th>\n",
       "      <th>synonym</th>\n",
       "    </tr>\n",
       "  </thead>\n",
       "  <tbody>\n",
       "    <tr>\n",
       "      <th>4608</th>\n",
       "      <td>Niacinamide</td>\n",
       "      <td>Niacinamide|Vitamin B3|Nicotinamide|3-Pyridine...</td>\n",
       "    </tr>\n",
       "    <tr>\n",
       "      <th>4631</th>\n",
       "      <td>Alpha-Arbutin</td>\n",
       "      <td>Alpha-Arbutin</td>\n",
       "    </tr>\n",
       "    <tr>\n",
       "      <th>4630</th>\n",
       "      <td>Camellia Sinensis Leaf Extract</td>\n",
       "      <td>Camellia Sinensis Leaf Extract|Green Tea|Oolon...</td>\n",
       "    </tr>\n",
       "    <tr>\n",
       "      <th>4629</th>\n",
       "      <td>Tocopherol</td>\n",
       "      <td>Tocopherol|Vitamin E</td>\n",
       "    </tr>\n",
       "    <tr>\n",
       "      <th>4628</th>\n",
       "      <td>Citric Acid</td>\n",
       "      <td>Citric Acid</td>\n",
       "    </tr>\n",
       "    <tr>\n",
       "      <th>...</th>\n",
       "      <td>...</td>\n",
       "      <td>...</td>\n",
       "    </tr>\n",
       "    <tr>\n",
       "      <th>27625</th>\n",
       "      <td>Butylethylpropanediol Dimer Dilinoleate</td>\n",
       "      <td>Butylethylpropanediol Dimer Dilinoleate</td>\n",
       "    </tr>\n",
       "    <tr>\n",
       "      <th>27624</th>\n",
       "      <td>Butyl Isovalerate</td>\n",
       "      <td>Butyl Isovalerate</td>\n",
       "    </tr>\n",
       "    <tr>\n",
       "      <th>27641</th>\n",
       "      <td>Capsella Bursa-Pastoris Sprout Water</td>\n",
       "      <td>Capsella Bursa-Pastoris Sprout Water</td>\n",
       "    </tr>\n",
       "    <tr>\n",
       "      <th>27632</th>\n",
       "      <td>C9-11 Pareth-8</td>\n",
       "      <td>C9-11 Pareth-8</td>\n",
       "    </tr>\n",
       "    <tr>\n",
       "      <th>27642</th>\n",
       "      <td>Carboxyethyl Acrylate</td>\n",
       "      <td>Carboxyethyl Acrylate</td>\n",
       "    </tr>\n",
       "  </tbody>\n",
       "</table>\n",
       "<p>27643 rows × 2 columns</p>\n",
       "</div>"
      ],
      "text/plain": [
       "                                  generic_name  \\\n",
       "4608                               Niacinamide   \n",
       "4631                             Alpha-Arbutin   \n",
       "4630            Camellia Sinensis Leaf Extract   \n",
       "4629                                Tocopherol   \n",
       "4628                               Citric Acid   \n",
       "...                                        ...   \n",
       "27625  Butylethylpropanediol Dimer Dilinoleate   \n",
       "27624                        Butyl Isovalerate   \n",
       "27641     Capsella Bursa-Pastoris Sprout Water   \n",
       "27632                           C9-11 Pareth-8   \n",
       "27642                    Carboxyethyl Acrylate   \n",
       "\n",
       "                                                 synonym  \n",
       "4608   Niacinamide|Vitamin B3|Nicotinamide|3-Pyridine...  \n",
       "4631                                       Alpha-Arbutin  \n",
       "4630   Camellia Sinensis Leaf Extract|Green Tea|Oolon...  \n",
       "4629                                Tocopherol|Vitamin E  \n",
       "4628                                         Citric Acid  \n",
       "...                                                  ...  \n",
       "27625            Butylethylpropanediol Dimer Dilinoleate  \n",
       "27624                                  Butyl Isovalerate  \n",
       "27641               Capsella Bursa-Pastoris Sprout Water  \n",
       "27632                                     C9-11 Pareth-8  \n",
       "27642                              Carboxyethyl Acrylate  \n",
       "\n",
       "[27643 rows x 2 columns]"
      ]
     },
     "execution_count": 2,
     "metadata": {},
     "output_type": "execute_result"
    }
   ],
   "source": [
    "FILE_PATH = '../Data/raw/skinsort_ingredients_20231202.csv'\n",
    "df_ingredients = pd.DataFrame(pd.read_csv(FILE_PATH, sep=';', index_col=False))\n",
    "df_ingredients.sort_values(by=[\"page_number\"], inplace=True) #sort\n",
    "df_ingredients.drop(labels=[\"page_number\"], axis=1, inplace=True) #drop unnecessary columns\n",
    "df_ingredients.rename(columns={'name': 'generic_name'}, inplace=True)\n",
    "\n",
    "df_ingredients"
   ]
  },
  {
   "cell_type": "markdown",
   "metadata": {},
   "source": [
    "### Clean DataSet"
   ]
  },
  {
   "cell_type": "code",
   "execution_count": 3,
   "metadata": {},
   "outputs": [],
   "source": [
    "def clean_text(s):\n",
    "    # Check if s is a string\n",
    "    if isinstance(s, str):\n",
    "        s = unidecode(s)  # è -> e (unicode transliteration)\n",
    "        s = s.lower()\n",
    "        return s"
   ]
  },
  {
   "cell_type": "code",
   "execution_count": 4,
   "metadata": {},
   "outputs": [],
   "source": [
    "# MISLAM NEMA DA TREBA, EVENTUALNO AKO IZLEZAT MN SOEDINENIJA STO NI FALAT, DA SE NAVRATIME I DA GI IZDVOIME SOSTOJ. OD REDICITE SO MN.PODATOCI\n",
    " \n",
    "# def process_ingredient_list(text):\n",
    "#     if pd.notna(text) and (len(text) > 30 or '/' in text):\n",
    "#         return text.replace('/', '; ')\n",
    "#     else:\n",
    "#         return text\n",
    "\n",
    "# ingredients['synonym'] = ingredients['synonym'].apply(process_ingredient_list)"
   ]
  },
  {
   "cell_type": "code",
   "execution_count": 5,
   "metadata": {},
   "outputs": [],
   "source": [
    "df_ingredients = df_ingredients.dropna() #drop empty rows\n",
    "\n",
    "df_ingredients = df_ingredients[~(df_ingredients[\"generic_name\"].str.startswith(\"(\") | df_ingredients[\"generic_name\"].str.startswith(\"[\"))] #delete unnecessary rows\n",
    "\n",
    "df_ingredients[\"synonym\"].replace(to_replace=r\"(?<=\\d),\\s+(?=\\d)\", regex=True, value=',', inplace=True) #example 1, 3, 4-Octadecanetrio to 1,3,4-Octadecanetrio\n",
    "df_ingredients[\"synonym\"].replace(to_replace=\", \", value='|', inplace=True)\n",
    "df_ingredients[\"synonym\"].replace(to_replace=\" and \", value='|', inplace=True)\n",
    "df_ingredients[\"synonym\"].replace(to_replace=\"and \", value='', inplace=True)\n",
    "\n",
    "df_ingredients[\"synonym\"] = df_ingredients[\"synonym\"].str.split(\"|\") #split synonyms from string to array of strings\n",
    "\n",
    "df_ingredients = df_ingredients.explode(\"synonym\")\n",
    "\n",
    "df_ingredients[\"synonym\"] = df_ingredients[\"synonym\"].str.strip()\n",
    "\n",
    "# ingredients = ingredients[~ingredients['name'].str.startswith('(')]  # brisenje na 36 redovi sto bea so dolga lista\n",
    "# ingredients = ingredients[~ingredients['name'].str.startswith('[')]\n",
    "# ingredients[\"synonym\"] = ingredients[\"synonym\"].replace(to_replace=r\", \", value=';', regex=True)\n",
    "# ingredients[\"synonym\"] = ingredients[\"synonym\"].replace(to_replace=r\" and \", value=';', regex=True)\n",
    "# ingredients[\"synonym\"] = ingredients['name'] + ';' + ingredients['synonym']\n",
    "# ingredients[\"synonym\"].fillna(ingredients[\"name\"], inplace=True)\n",
    "# ingredients[\"synonym\"] = ingredients[\"synonym\"].str.split(\";\")\n",
    "# ingredients = ingredients.explode(\"synonym\")\n",
    "# ingredients[\"synonym\"] = ingredients[\"synonym\"].replace(to_replace=r\"and \", value='', regex=True).str.strip()\n",
    "# ingredients[\"synonym\"] = ingredients[\"synonym\"].apply(clean_text)\n",
    "# ingredients.rename(columns={'name': 'generic_name'}, inplace=True)\n",
    "# ingredients"
   ]
  },
  {
   "cell_type": "code",
   "execution_count": 6,
   "metadata": {},
   "outputs": [],
   "source": [
    "new_rows1 = pd.DataFrame({'generic_name': ['Water', 'Water', 'Water', 'Water', 'Water', 'Water', 'Water', 'Water', 'Water', 'Water', 'Water', 'Water', 'Water', 'Water', 'Water', 'Water', 'Water'],\n",
    "            'synonym': ['water/aqua/eau', 'water/eau', 'water/aqua', 'water \\ aqua \\ eau', 'water aqua', 'water eau', 'water/eau (aqua)', 'aqua(water', \n",
    "                        'water\\aqua\\eau', 'water (aqua / eau)', 'aqua (water)', 'aqua/water/eau', 'aqua/water', 'aqua(water(eau', 'aqua(water', 'aqua(water(water', 'eau)']})\n",
    "\n",
    "new_rows2 = pd.DataFrame({'generic_name': ['Parfum', 'Parfum', 'Parfum', 'Parfum', 'Parfum', 'Parfum', 'Parfum', 'Parfum', 'Parfum', 'Parfum', 'Parfum', 'Parfum', 'Parfum', 'Parfum'],\n",
    "            'synonym': ['fragrance (fragrance)', 'fragrance (parfum)', 'fragrance / parfum', 'fragrance(parfum)', 'fragrance/parfum', 'parfum (fragrance)', \n",
    "                        'parfum / fragrance', 'parfum fragrance', 'parfum/ fragrance', 'perfum', 'perfum   fragrance', 'perfum (fragrance)', 'perfum fragrance', 'perfume']})\n",
    "\n",
    "new_rows3 = pd.DataFrame({'generic_name': ['Aroma', 'Aroma', 'Aroma'], 'synonym': ['aroma (flavor)', 'aroma/flavor', 'aromatics']})\n",
    "\n",
    "\n",
    "df_ingredients = pd.concat([df_ingredients, new_rows1], ignore_index = True)\n",
    "df_ingredients = pd.concat([df_ingredients, new_rows2], ignore_index = True)\n",
    "df_ingredients = pd.concat([df_ingredients, new_rows3], ignore_index = True)"
   ]
  },
  {
   "cell_type": "code",
   "execution_count": 7,
   "metadata": {},
   "outputs": [],
   "source": [
    "df_ingredients[\"synonym\"] = df_ingredients[\"synonym\"].apply(clean_text)\n",
    "\n",
    "df_ingredients.drop_duplicates(subset='synonym', inplace=True)\n",
    "df_ingredients.reset_index(drop=True, inplace=True)"
   ]
  },
  {
   "cell_type": "code",
   "execution_count": 8,
   "metadata": {},
   "outputs": [],
   "source": [
    "df_ingredients.to_csv('../Data/ingredients.csv', sep=\";\", index=False)"
   ]
  }
 ],
 "metadata": {
  "kernelspec": {
   "display_name": "Python 3",
   "language": "python",
   "name": "python3"
  },
  "language_info": {
   "codemirror_mode": {
    "name": "ipython",
    "version": 3
   },
   "file_extension": ".py",
   "mimetype": "text/x-python",
   "name": "python",
   "nbconvert_exporter": "python",
   "pygments_lexer": "ipython3",
   "version": "3.11.4"
  }
 },
 "nbformat": 4,
 "nbformat_minor": 2
}
