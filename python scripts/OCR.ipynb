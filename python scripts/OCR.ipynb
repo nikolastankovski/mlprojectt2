{
  "nbformat": 4,
  "nbformat_minor": 0,
  "metadata": {
    "colab": {
      "provenance": []
    },
    "kernelspec": {
      "name": "python3",
      "display_name": "Python 3"
    },
    "language_info": {
      "name": "python"
    }
  },
  "cells": [
    {
      "cell_type": "code",
      "execution_count": 16,
      "metadata": {
        "id": "sSgig2LE6Xzr"
      },
      "outputs": [],
      "source": [
        "pip install easyocr"
      ]
    },
    {
      "cell_type": "code",
      "source": [
        "pip install git+https://github.com/JaidedAI/EasyOCR.git"
      ],
      "metadata": {
        "id": "cM9eAen86aQU"
      },
      "execution_count": null,
      "outputs": []
    },
    {
      "cell_type": "code",
      "source": [
        "import easyocr"
      ],
      "metadata": {
        "id": "6JkakOtkRcqd"
      },
      "execution_count": null,
      "outputs": []
    },
    {
      "cell_type": "code",
      "source": [
        "reader = easyocr.Reader(['en']) # this needs to run only once to load the model into memory"
      ],
      "metadata": {
        "id": "pyuOEMwuSqhS"
      },
      "execution_count": null,
      "outputs": []
    },
    {
      "cell_type": "code",
      "source": [
        "result = reader.readtext('/content/IMG_6971.jpg', detail = 0)\n",
        "result"
      ],
      "metadata": {
        "colab": {
          "base_uri": "https://localhost:8080/"
        },
        "id": "K6t7Txon6gvT",
        "outputId": "9154b1a5-688c-4360-d1dd-6ea64c010993"
      },
      "execution_count": 25,
      "outputs": [
        {
          "output_type": "execute_result",
          "data": {
            "text/plain": [
              "['MARKENQUALITAT',\n",
              " 'ISANA, Festes SHampoo (65 ml)',\n",
              " 'einigt',\n",
              " 'Shampo e Nqurte per Kaien _e_Flokeve_me_Arome',\n",
              " 'Ivenol',\n",
              " 'zugle',\n",
              " 'Arre Kokosiche Manqoje',\n",
              " 'unter',\n",
              " 'Produkt',\n",
              " 'vegan:',\n",
              " 'Pa  mikroplastike,',\n",
              " 'silikon',\n",
              " 'dhe',\n",
              " 'RiiriPanafina',\n",
              " 'Shampoja pastron butesisht floket;',\n",
              " 'Permban vaj',\n",
              " 'dhe vaj',\n",
              " 'ohng',\n",
              " 'kastori (Ricinus   communis) te',\n",
              " 'ciiat  parkujdesen  Per',\n",
              " 'floket:',\n",
              " 'ohng',\n",
              " 'Produkti',\n",
              " 'Gshte',\n",
              " 'Berdorimiem',\n",
              " 'par',\n",
              " 'floket',\n",
              " 'normal;',\n",
              " 'Testuar',\n",
              " 'Lageni',\n",
              " 'shampon',\n",
              " '2',\n",
              " 'ngurte',\n",
              " 'dhe',\n",
              " 'derojeologiikioke',\n",
              " 'floket e',\n",
              " 'Me shkumen',\n",
              " 'e',\n",
              " 'krijuar, masazhoni',\n",
              " 'butesisht floket dhe',\n",
              " 'Ioupa;',\n",
              " 'pas ghpelajini: Pas perdorimit thajeni',\n",
              " 'e',\n",
              " 'Parberosit:  Sodium',\n",
              " 'sulfatit te',\n",
              " 'Kokosit,',\n",
              " 'iben,',\n",
              " 'dlicerpaa',\n",
              " 'e',\n",
              " 'hiarogjenzuar',\n",
              " 'palme,',\n",
              " 'uje,',\n",
              " 'vaj kastori,',\n",
              " 'ulliri,',\n",
              " 'Nach',\n",
              " 'den',\n",
              " 'klorid',\n",
              " 'sodiumi.',\n",
              " 'Data',\n",
              " 'e',\n",
              " 'sk:',\n",
              " '12',\n",
              " 'muaj',\n",
              " 'Gebr   Fportuar orAL8dug ngeRossmann & Eala',\n",
              " '4305615716237',\n",
              " 'MAUTVCITTHOLIOIIGIT',\n",
              " 'dermatologisch bestatigt',\n",
              " 'INGREDIENTS:   Disodium   Lauryl   SulfoSuccinate,',\n",
              " 'Sodkuro',\n",
              " 'Coc) Snuatc',\n",
              " 'Triticum',\n",
              " 'Vulgare (Wheat) Starch; Cetearyi Alcohol, Hydrogenated Gaiv Cxerd',\n",
              " 'Jique , Lauryl',\n",
              " \"PCA;, Cocamidopropyl Betaine; Ricinus Communis Seed Oit;  Clycery' Stearate, Oiea\",\n",
              " 'Europaea Fruit Oil, Parfum; Sodium Chloride, CH 77891 .',\n",
              " 'Hergestellt fur',\n",
              " 'Dirk Rossmann GmbH',\n",
              " 'Isernhagener Str, 16',\n",
              " 'Jankind',\n",
              " '30938 Burgwedel',\n",
              " '6eris3as fc-Teleion:',\n",
              " 'GERMANY',\n",
              " '65g',\n",
              " 'VEGAN',\n",
              " '12M',\n",
              " '~o 777 82 68',\n",
              " 'WW rossmann de',\n",
              " 'veihapjes',\n",
              " 'Tuandas']"
            ]
          },
          "metadata": {},
          "execution_count": 25
        }
      ]
    },
    {
      "cell_type": "code",
      "source": [],
      "metadata": {
        "id": "05xNS0nC7E6W"
      },
      "execution_count": 19,
      "outputs": []
    }
  ]
}